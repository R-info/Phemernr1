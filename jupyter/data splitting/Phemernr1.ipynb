{
 "cells": [
  {
   "cell_type": "code",
   "execution_count": 1,
   "id": "4a9b6fa9",
   "metadata": {},
   "outputs": [
    {
     "name": "stdout",
     "output_type": "stream",
     "text": [
      "(5802, 6)\n"
     ]
    },
    {
     "data": {
      "text/html": [
       "<div>\n",
       "<style scoped>\n",
       "    .dataframe tbody tr th:only-of-type {\n",
       "        vertical-align: middle;\n",
       "    }\n",
       "\n",
       "    .dataframe tbody tr th {\n",
       "        vertical-align: top;\n",
       "    }\n",
       "\n",
       "    .dataframe thead th {\n",
       "        text-align: right;\n",
       "    }\n",
       "</style>\n",
       "<table border=\"1\" class=\"dataframe\">\n",
       "  <thead>\n",
       "    <tr style=\"text-align: right;\">\n",
       "      <th></th>\n",
       "      <th>tweet_text</th>\n",
       "      <th>topic</th>\n",
       "      <th>label</th>\n",
       "      <th>tvt</th>\n",
       "      <th>cv_fold</th>\n",
       "      <th>tvt2</th>\n",
       "    </tr>\n",
       "  </thead>\n",
       "  <tbody>\n",
       "    <tr>\n",
       "      <th>0</th>\n",
       "      <td>BOMBSHELL: #Ferguson chief says the police off...</td>\n",
       "      <td>ferguson</td>\n",
       "      <td>rumours</td>\n",
       "      <td>test</td>\n",
       "      <td>3</td>\n",
       "      <td>training</td>\n",
       "    </tr>\n",
       "    <tr>\n",
       "      <th>1</th>\n",
       "      <td>It appears that #Ferguson PD are trying to ass...</td>\n",
       "      <td>ferguson</td>\n",
       "      <td>rumours</td>\n",
       "      <td>training</td>\n",
       "      <td>1</td>\n",
       "      <td>training</td>\n",
       "    </tr>\n",
       "    <tr>\n",
       "      <th>2</th>\n",
       "      <td>All weekend ppl will be talking about the \"rob...</td>\n",
       "      <td>ferguson</td>\n",
       "      <td>rumours</td>\n",
       "      <td>test</td>\n",
       "      <td>3</td>\n",
       "      <td>training</td>\n",
       "    </tr>\n",
       "    <tr>\n",
       "      <th>3</th>\n",
       "      <td>Why would the officer tell #MikeBrown to get o...</td>\n",
       "      <td>ferguson</td>\n",
       "      <td>rumours</td>\n",
       "      <td>test</td>\n",
       "      <td>3</td>\n",
       "      <td>training</td>\n",
       "    </tr>\n",
       "    <tr>\n",
       "      <th>4</th>\n",
       "      <td>Michael Brown is the 17 yr old boy who was sho...</td>\n",
       "      <td>ferguson</td>\n",
       "      <td>rumours</td>\n",
       "      <td>training</td>\n",
       "      <td>0</td>\n",
       "      <td>testting</td>\n",
       "    </tr>\n",
       "  </tbody>\n",
       "</table>\n",
       "</div>"
      ],
      "text/plain": [
       "                                          tweet_text     topic    label  \\\n",
       "0  BOMBSHELL: #Ferguson chief says the police off...  ferguson  rumours   \n",
       "1  It appears that #Ferguson PD are trying to ass...  ferguson  rumours   \n",
       "2  All weekend ppl will be talking about the \"rob...  ferguson  rumours   \n",
       "3  Why would the officer tell #MikeBrown to get o...  ferguson  rumours   \n",
       "4  Michael Brown is the 17 yr old boy who was sho...  ferguson  rumours   \n",
       "\n",
       "        tvt  cv_fold      tvt2  \n",
       "0      test        3  training  \n",
       "1  training        1  training  \n",
       "2      test        3  training  \n",
       "3      test        3  training  \n",
       "4  training        0  testting  "
      ]
     },
     "execution_count": 1,
     "metadata": {},
     "output_type": "execute_result"
    }
   ],
   "source": [
    "import pandas as pd\n",
    "\n",
    "data = pd.read_csv(\"../../data/phemernr1_dataset_with_tvt.csv\", lineterminator=\"\\n\")\n",
    "print(data.shape)\n",
    "data.head()"
   ]
  },
  {
   "cell_type": "code",
   "execution_count": 2,
   "id": "38478d9c",
   "metadata": {},
   "outputs": [
    {
     "data": {
      "text/plain": [
       "5802"
      ]
     },
     "execution_count": 2,
     "metadata": {},
     "output_type": "execute_result"
    }
   ],
   "source": [
    "length = data.shape[0]\n",
    "length"
   ]
  },
  {
   "cell_type": "code",
   "execution_count": 3,
   "id": "75afb59d",
   "metadata": {},
   "outputs": [
    {
     "name": "stdout",
     "output_type": "stream",
     "text": [
      "weights : 1000\n",
      "Training : 3841 - 0.662\n",
      "Validation : 1350 - 0.233\n",
      "Testing : 611 - 0.105\n"
     ]
    }
   ],
   "source": [
    "import random\n",
    "\n",
    "# random.seed(33)\n",
    "\n",
    "train_w = [0 for i in range(675)]\n",
    "val_w = [1 for i in range(225)]\n",
    "test_w = [2 for i in range(100)]\n",
    "\n",
    "weights = train_w + val_w + test_w\n",
    "print(f\"weights : {len(weights)}\")\n",
    "\n",
    "tvt = []\n",
    "for i in range(length):\n",
    "    gacha = random.sample(weights, 1)[0]\n",
    "    if gacha == 0:\n",
    "        tvt.append(\"training\")\n",
    "    elif gacha == 1:\n",
    "        tvt.append(\"validation\")\n",
    "    else:\n",
    "        tvt.append(\"testting\")\n",
    "\n",
    "print(f\"Training : {tvt.count('training')} - {round(tvt.count('training')/length, 3)}\")\n",
    "print(f\"Validation : {tvt.count('validation')} - {round(tvt.count('validation')/length, 3)}\")\n",
    "print(f\"Testing : {tvt.count('testting')} - {round(tvt.count('testting')/length, 3)}\")"
   ]
  },
  {
   "cell_type": "code",
   "execution_count": 4,
   "id": "9463cc17",
   "metadata": {},
   "outputs": [
    {
     "data": {
      "text/html": [
       "<div>\n",
       "<style scoped>\n",
       "    .dataframe tbody tr th:only-of-type {\n",
       "        vertical-align: middle;\n",
       "    }\n",
       "\n",
       "    .dataframe tbody tr th {\n",
       "        vertical-align: top;\n",
       "    }\n",
       "\n",
       "    .dataframe thead th {\n",
       "        text-align: right;\n",
       "    }\n",
       "</style>\n",
       "<table border=\"1\" class=\"dataframe\">\n",
       "  <thead>\n",
       "    <tr style=\"text-align: right;\">\n",
       "      <th></th>\n",
       "      <th>tweet_text</th>\n",
       "      <th>topic</th>\n",
       "      <th>label</th>\n",
       "      <th>tvt</th>\n",
       "      <th>cv_fold</th>\n",
       "      <th>tvt2</th>\n",
       "    </tr>\n",
       "  </thead>\n",
       "  <tbody>\n",
       "    <tr>\n",
       "      <th>0</th>\n",
       "      <td>BOMBSHELL: #Ferguson chief says the police off...</td>\n",
       "      <td>ferguson</td>\n",
       "      <td>rumours</td>\n",
       "      <td>test</td>\n",
       "      <td>3</td>\n",
       "      <td>validation</td>\n",
       "    </tr>\n",
       "    <tr>\n",
       "      <th>1</th>\n",
       "      <td>It appears that #Ferguson PD are trying to ass...</td>\n",
       "      <td>ferguson</td>\n",
       "      <td>rumours</td>\n",
       "      <td>training</td>\n",
       "      <td>1</td>\n",
       "      <td>training</td>\n",
       "    </tr>\n",
       "    <tr>\n",
       "      <th>2</th>\n",
       "      <td>All weekend ppl will be talking about the \"rob...</td>\n",
       "      <td>ferguson</td>\n",
       "      <td>rumours</td>\n",
       "      <td>test</td>\n",
       "      <td>3</td>\n",
       "      <td>training</td>\n",
       "    </tr>\n",
       "    <tr>\n",
       "      <th>3</th>\n",
       "      <td>Why would the officer tell #MikeBrown to get o...</td>\n",
       "      <td>ferguson</td>\n",
       "      <td>rumours</td>\n",
       "      <td>test</td>\n",
       "      <td>3</td>\n",
       "      <td>validation</td>\n",
       "    </tr>\n",
       "    <tr>\n",
       "      <th>4</th>\n",
       "      <td>Michael Brown is the 17 yr old boy who was sho...</td>\n",
       "      <td>ferguson</td>\n",
       "      <td>rumours</td>\n",
       "      <td>training</td>\n",
       "      <td>0</td>\n",
       "      <td>training</td>\n",
       "    </tr>\n",
       "  </tbody>\n",
       "</table>\n",
       "</div>"
      ],
      "text/plain": [
       "                                          tweet_text     topic    label  \\\n",
       "0  BOMBSHELL: #Ferguson chief says the police off...  ferguson  rumours   \n",
       "1  It appears that #Ferguson PD are trying to ass...  ferguson  rumours   \n",
       "2  All weekend ppl will be talking about the \"rob...  ferguson  rumours   \n",
       "3  Why would the officer tell #MikeBrown to get o...  ferguson  rumours   \n",
       "4  Michael Brown is the 17 yr old boy who was sho...  ferguson  rumours   \n",
       "\n",
       "        tvt  cv_fold        tvt2  \n",
       "0      test        3  validation  \n",
       "1  training        1    training  \n",
       "2      test        3    training  \n",
       "3      test        3  validation  \n",
       "4  training        0    training  "
      ]
     },
     "execution_count": 4,
     "metadata": {},
     "output_type": "execute_result"
    }
   ],
   "source": [
    "data['tvt2'] = pd.Series(tvt)\n",
    "data.head()"
   ]
  },
  {
   "cell_type": "code",
   "execution_count": 5,
   "id": "40803634",
   "metadata": {},
   "outputs": [
    {
     "data": {
      "text/plain": [
       "non-rumours    3830\n",
       "rumours        1972\n",
       "Name: label, dtype: int64"
      ]
     },
     "execution_count": 5,
     "metadata": {},
     "output_type": "execute_result"
    }
   ],
   "source": [
    "label_count = data['label'].value_counts()\n",
    "label_count"
   ]
  },
  {
   "cell_type": "code",
   "execution_count": 6,
   "id": "4529cfbf",
   "metadata": {},
   "outputs": [
    {
     "name": "stdout",
     "output_type": "stream",
     "text": [
      "\n",
      "Topic,ferguson,charliehebdo,germanwings,ottawashooting,sydneysiege\n",
      "Original\t0.197\t0.3583\t0.0808\t0.1534\t0.2104\n",
      "Part-training\t0.1927\t0.3637\t0.0802\t0.1515\t0.2119\n",
      "Part-validation\t0.2104\t0.3526\t0.0837\t0.157\t0.1963\n",
      "Part-testting\t0.1948\t0.3372\t0.0786\t0.1571\t0.2324\n",
      "\n",
      "Topic,ferguson,charliehebdo,germanwings,ottawashooting,sydneysiege\n",
      "Original\t1143\t2079\t469\t890\t1221\n",
      "Training\t740\t1397\t308\t582\t814\n",
      "Validation\t284\t476\t113\t212\t265\n",
      "Testting\t119\t206\t48\t96\t142\n"
     ]
    }
   ],
   "source": [
    "topic_count = data['topic'].value_counts()\n",
    "combination = data.apply(lambda row: f\"{row['topic']}_{row['tvt2']}\", axis=1).value_counts()\n",
    "# print(combination)\n",
    "comparison = {}\n",
    "for k, comb in combination.items():\n",
    "    cv_fold = k.split(\"_\")[1]\n",
    "    label = k.split(\"_\")[0]\n",
    "\n",
    "    if cv_fold not in comparison:\n",
    "        comparison[cv_fold] = {}\n",
    "    \n",
    "    comparison[cv_fold][label] = comb\n",
    "\n",
    "topics = data['topic'].unique().tolist()\n",
    "topics_simple = [t.split(\"-\")[0] for t in topics]\n",
    "\n",
    "def label_ratio(label_dict, labels):\n",
    "    total = sum([v for k, v in label_dict.items()])\n",
    "    \n",
    "    report = \"\"\n",
    "    for l in labels:\n",
    "        report += f\"{round(label_dict[l]/total, 4)}\\t\"\n",
    "    \n",
    "    return report[:-1]\n",
    "\n",
    "def label_raw_value(label_dict, labels):\n",
    "    report = \"\"\n",
    "    for l in labels:\n",
    "        report += f\"{label_dict[l]}\\t\"\n",
    "    \n",
    "    return report[:-1]\n",
    "\n",
    "topics_str = ','.join(topics_simple)\n",
    "print(f\"\\nTopic,{topics_str}\")\n",
    "print(f\"Original\\t{label_ratio(topic_count, topics)}\")\n",
    "for cv, comp in comparison.items():\n",
    "    print(f\"Part-{cv}\\t{label_ratio(comp, topics)}\")\n",
    "\n",
    "topics_str = ','.join(topics_simple)\n",
    "print(f\"\\nTopic,{topics_str}\")\n",
    "print(f\"Original\\t{label_raw_value(topic_count, topics)}\")\n",
    "for cv, comp in comparison.items():\n",
    "    print(f\"{cv.title()}\\t{label_raw_value(comp, topics)}\")"
   ]
  },
  {
   "cell_type": "code",
   "execution_count": 7,
   "id": "52bd5ee5",
   "metadata": {},
   "outputs": [
    {
     "name": "stdout",
     "output_type": "stream",
     "text": [
      "\n",
      "Label,rumours,non-rumours\n",
      "Original\t0.34\t0.66\n",
      "Training\t0.34\t0.66\n",
      "Validation\t0.33\t0.67\n",
      "Testting\t0.34\t0.66\n",
      "\n",
      "Label,rumours,non-rumours\n",
      "Original\t1972\t3830\n",
      "Training\t1313\t2528\n",
      "Validation\t451\t899\n",
      "Testting\t208\t403\n"
     ]
    }
   ],
   "source": [
    "combination = data.apply(lambda row: f\"{row['label']}_{row['tvt2']}\", axis=1).value_counts()\n",
    "comparison = {}\n",
    "for k, comb in combination.items():\n",
    "    cv_fold = k.split(\"_\")[1]\n",
    "    label = k.split(\"_\")[0]\n",
    "\n",
    "    if cv_fold not in comparison:\n",
    "        comparison[cv_fold] = {}\n",
    "    \n",
    "    comparison[cv_fold][label] = comb\n",
    "\n",
    "labels = data['label'].unique().tolist()\n",
    "\n",
    "def label_ratio(label_dict, labels):\n",
    "    total = sum([v for k, v in label_dict.items()])\n",
    "    \n",
    "    report = \"\"\n",
    "    for l in labels:\n",
    "        report += f\"{round(label_dict[l]/total, 2)}\\t\"\n",
    "    \n",
    "    return report[:-1]\n",
    "\n",
    "def label_raw_value(label_dict, labels):\n",
    "    total = sum([v for k, v in label_dict.items()])\n",
    "    \n",
    "    report = \"\"\n",
    "    for l in labels:\n",
    "        report += f\"{label_dict[l]}\\t\"\n",
    "    \n",
    "    return report[:-1]\n",
    "\n",
    "labels_str = ','.join(labels)\n",
    "print(f\"\\nLabel,{labels_str}\")\n",
    "print(f\"Original\\t{label_ratio(label_count, labels)}\")\n",
    "for cv, comp in comparison.items():\n",
    "    print(f\"{cv.title()}\\t{label_ratio(comp, labels)}\")\n",
    "    \n",
    "labels_str = ','.join(labels)\n",
    "print(f\"\\nLabel,{labels_str}\")\n",
    "print(f\"Original\\t{label_raw_value(label_count, labels)}\")\n",
    "for cv, comp in comparison.items():\n",
    "    print(f\"{cv.title()}\\t{label_raw_value(comp, labels)}\")"
   ]
  },
  {
   "cell_type": "code",
   "execution_count": 9,
   "id": "d80f19f1",
   "metadata": {},
   "outputs": [],
   "source": [
    "data.to_csv(\"../../data/phemernr1_dataset_with_tvt.csv\", index=False)"
   ]
  },
  {
   "cell_type": "code",
   "execution_count": null,
   "id": "a3e3561b",
   "metadata": {},
   "outputs": [],
   "source": []
  }
 ],
 "metadata": {
  "kernelspec": {
   "display_name": "Python 3 (ipykernel)",
   "language": "python",
   "name": "python3"
  },
  "language_info": {
   "codemirror_mode": {
    "name": "ipython",
    "version": 3
   },
   "file_extension": ".py",
   "mimetype": "text/x-python",
   "name": "python",
   "nbconvert_exporter": "python",
   "pygments_lexer": "ipython3",
   "version": "3.9.5"
  }
 },
 "nbformat": 4,
 "nbformat_minor": 5
}
