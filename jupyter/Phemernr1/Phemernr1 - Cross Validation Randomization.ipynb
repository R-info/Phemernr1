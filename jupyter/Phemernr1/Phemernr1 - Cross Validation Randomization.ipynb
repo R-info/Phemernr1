{
 "cells": [
  {
   "cell_type": "code",
   "execution_count": 1,
   "id": "e7cb6440",
   "metadata": {},
   "outputs": [
    {
     "data": {
      "text/html": [
       "<div>\n",
       "<style scoped>\n",
       "    .dataframe tbody tr th:only-of-type {\n",
       "        vertical-align: middle;\n",
       "    }\n",
       "\n",
       "    .dataframe tbody tr th {\n",
       "        vertical-align: top;\n",
       "    }\n",
       "\n",
       "    .dataframe thead th {\n",
       "        text-align: right;\n",
       "    }\n",
       "</style>\n",
       "<table border=\"1\" class=\"dataframe\">\n",
       "  <thead>\n",
       "    <tr style=\"text-align: right;\">\n",
       "      <th></th>\n",
       "      <th>tweet_text</th>\n",
       "      <th>topic</th>\n",
       "      <th>label</th>\n",
       "      <th>tvt</th>\n",
       "      <th>cv_fold</th>\n",
       "    </tr>\n",
       "  </thead>\n",
       "  <tbody>\n",
       "    <tr>\n",
       "      <th>0</th>\n",
       "      <td>BOMBSHELL: #Ferguson chief says the police off...</td>\n",
       "      <td>ferguson</td>\n",
       "      <td>rumours</td>\n",
       "      <td>test</td>\n",
       "      <td>3</td>\n",
       "    </tr>\n",
       "    <tr>\n",
       "      <th>1</th>\n",
       "      <td>It appears that #Ferguson PD are trying to ass...</td>\n",
       "      <td>ferguson</td>\n",
       "      <td>rumours</td>\n",
       "      <td>training</td>\n",
       "      <td>1</td>\n",
       "    </tr>\n",
       "    <tr>\n",
       "      <th>2</th>\n",
       "      <td>All weekend ppl will be talking about the \"rob...</td>\n",
       "      <td>ferguson</td>\n",
       "      <td>rumours</td>\n",
       "      <td>test</td>\n",
       "      <td>3</td>\n",
       "    </tr>\n",
       "    <tr>\n",
       "      <th>3</th>\n",
       "      <td>Why would the officer tell #MikeBrown to get o...</td>\n",
       "      <td>ferguson</td>\n",
       "      <td>rumours</td>\n",
       "      <td>test</td>\n",
       "      <td>3</td>\n",
       "    </tr>\n",
       "    <tr>\n",
       "      <th>4</th>\n",
       "      <td>Michael Brown is the 17 yr old boy who was sho...</td>\n",
       "      <td>ferguson</td>\n",
       "      <td>rumours</td>\n",
       "      <td>training</td>\n",
       "      <td>0</td>\n",
       "    </tr>\n",
       "  </tbody>\n",
       "</table>\n",
       "</div>"
      ],
      "text/plain": [
       "                                          tweet_text     topic    label  \\\n",
       "0  BOMBSHELL: #Ferguson chief says the police off...  ferguson  rumours   \n",
       "1  It appears that #Ferguson PD are trying to ass...  ferguson  rumours   \n",
       "2  All weekend ppl will be talking about the \"rob...  ferguson  rumours   \n",
       "3  Why would the officer tell #MikeBrown to get o...  ferguson  rumours   \n",
       "4  Michael Brown is the 17 yr old boy who was sho...  ferguson  rumours   \n",
       "\n",
       "        tvt  cv_fold  \n",
       "0      test        3  \n",
       "1  training        1  \n",
       "2      test        3  \n",
       "3      test        3  \n",
       "4  training        0  "
      ]
     },
     "execution_count": 1,
     "metadata": {},
     "output_type": "execute_result"
    }
   ],
   "source": [
    "import pandas as pd\n",
    "import numpy as np\n",
    "\n",
    "phemernr = pd.read_csv(\"../../data/processed/phemernr1_dataset_with_tvt.csv\")\n",
    "phemernr.head()"
   ]
  },
  {
   "cell_type": "code",
   "execution_count": 2,
   "id": "b33b289b",
   "metadata": {},
   "outputs": [
    {
     "data": {
      "text/plain": [
       "5802"
      ]
     },
     "execution_count": 2,
     "metadata": {},
     "output_type": "execute_result"
    }
   ],
   "source": [
    "length = phemernr.shape[0]\n",
    "length"
   ]
  },
  {
   "cell_type": "code",
   "execution_count": 3,
   "id": "496a0ce8",
   "metadata": {},
   "outputs": [
    {
     "name": "stdout",
     "output_type": "stream",
     "text": [
      "Test Set : 530 - 0.09\n",
      "Part-1 : 1769 - 0.3\n",
      "Part-1 : 1767 - 0.3\n",
      "Part-1 : 1736 - 0.3\n"
     ]
    }
   ],
   "source": [
    "import random\n",
    "\n",
    "random.seed(37)\n",
    "\n",
    "weight = [0, 1, 1, 1, 2, 2, 2, 3, 3, 3]\n",
    "cv_3fold = []\n",
    "for i in range(length):\n",
    "    cv_3fold.append(random.sample(weight, 1)[0])\n",
    "\n",
    "print(f\"Test Set : {cv_3fold.count(0)} - {round(cv_3fold.count(0)/length, 2)}\")\n",
    "print(f\"Part-1 : {cv_3fold.count(1)} - {round(cv_3fold.count(1)/length, 2)}\")\n",
    "print(f\"Part-1 : {cv_3fold.count(2)} - {round(cv_3fold.count(2)/length, 2)}\")\n",
    "print(f\"Part-1 : {cv_3fold.count(3)} - {round(cv_3fold.count(3)/length, 2)}\")"
   ]
  },
  {
   "cell_type": "code",
   "execution_count": 4,
   "id": "55d24956",
   "metadata": {},
   "outputs": [
    {
     "data": {
      "text/html": [
       "<div>\n",
       "<style scoped>\n",
       "    .dataframe tbody tr th:only-of-type {\n",
       "        vertical-align: middle;\n",
       "    }\n",
       "\n",
       "    .dataframe tbody tr th {\n",
       "        vertical-align: top;\n",
       "    }\n",
       "\n",
       "    .dataframe thead th {\n",
       "        text-align: right;\n",
       "    }\n",
       "</style>\n",
       "<table border=\"1\" class=\"dataframe\">\n",
       "  <thead>\n",
       "    <tr style=\"text-align: right;\">\n",
       "      <th></th>\n",
       "      <th>tweet_text</th>\n",
       "      <th>topic</th>\n",
       "      <th>label</th>\n",
       "      <th>tvt</th>\n",
       "      <th>cv_fold</th>\n",
       "    </tr>\n",
       "  </thead>\n",
       "  <tbody>\n",
       "    <tr>\n",
       "      <th>0</th>\n",
       "      <td>BOMBSHELL: #Ferguson chief says the police off...</td>\n",
       "      <td>ferguson</td>\n",
       "      <td>rumours</td>\n",
       "      <td>test</td>\n",
       "      <td>3</td>\n",
       "    </tr>\n",
       "    <tr>\n",
       "      <th>1</th>\n",
       "      <td>It appears that #Ferguson PD are trying to ass...</td>\n",
       "      <td>ferguson</td>\n",
       "      <td>rumours</td>\n",
       "      <td>training</td>\n",
       "      <td>1</td>\n",
       "    </tr>\n",
       "    <tr>\n",
       "      <th>2</th>\n",
       "      <td>All weekend ppl will be talking about the \"rob...</td>\n",
       "      <td>ferguson</td>\n",
       "      <td>rumours</td>\n",
       "      <td>test</td>\n",
       "      <td>3</td>\n",
       "    </tr>\n",
       "    <tr>\n",
       "      <th>3</th>\n",
       "      <td>Why would the officer tell #MikeBrown to get o...</td>\n",
       "      <td>ferguson</td>\n",
       "      <td>rumours</td>\n",
       "      <td>test</td>\n",
       "      <td>3</td>\n",
       "    </tr>\n",
       "    <tr>\n",
       "      <th>4</th>\n",
       "      <td>Michael Brown is the 17 yr old boy who was sho...</td>\n",
       "      <td>ferguson</td>\n",
       "      <td>rumours</td>\n",
       "      <td>training</td>\n",
       "      <td>0</td>\n",
       "    </tr>\n",
       "  </tbody>\n",
       "</table>\n",
       "</div>"
      ],
      "text/plain": [
       "                                          tweet_text     topic    label  \\\n",
       "0  BOMBSHELL: #Ferguson chief says the police off...  ferguson  rumours   \n",
       "1  It appears that #Ferguson PD are trying to ass...  ferguson  rumours   \n",
       "2  All weekend ppl will be talking about the \"rob...  ferguson  rumours   \n",
       "3  Why would the officer tell #MikeBrown to get o...  ferguson  rumours   \n",
       "4  Michael Brown is the 17 yr old boy who was sho...  ferguson  rumours   \n",
       "\n",
       "        tvt  cv_fold  \n",
       "0      test        3  \n",
       "1  training        1  \n",
       "2      test        3  \n",
       "3      test        3  \n",
       "4  training        0  "
      ]
     },
     "execution_count": 4,
     "metadata": {},
     "output_type": "execute_result"
    }
   ],
   "source": [
    "# phemernr['cv_fold'] = pd.Series(cv_3fold)\n",
    "# phemernr.head()"
   ]
  },
  {
   "cell_type": "code",
   "execution_count": 3,
   "id": "3b609316",
   "metadata": {},
   "outputs": [
    {
     "data": {
      "text/plain": [
       "non-rumours    3830\n",
       "rumours        1972\n",
       "Name: label, dtype: int64"
      ]
     },
     "execution_count": 3,
     "metadata": {},
     "output_type": "execute_result"
    }
   ],
   "source": [
    "label_count = phemernr['label'].value_counts()\n",
    "label_count"
   ]
  },
  {
   "cell_type": "code",
   "execution_count": 11,
   "id": "a3f27d2c",
   "metadata": {},
   "outputs": [
    {
     "name": "stdout",
     "output_type": "stream",
     "text": [
      "Original : 0.34\t0.66\n",
      "Part-2 : 0.33\t0.67\n",
      "Part-1 : 0.35\t0.65\n",
      "Part-3 : 0.34\t0.66\n",
      "Part-0 : 0.36\t0.64\n"
     ]
    }
   ],
   "source": [
    "combination = phemernr.apply(lambda row: f\"{row['label']}_{row['cv_fold']}\", axis=1).value_counts()\n",
    "comparison = {}\n",
    "for k, comb in combination.items():\n",
    "    cv_fold = k.split(\"_\")[1]\n",
    "    label = k.split(\"_\")[0]\n",
    "\n",
    "    if cv_fold not in comparison:\n",
    "        comparison[cv_fold] = {}\n",
    "    \n",
    "    comparison[cv_fold][label] = comb\n",
    "\n",
    "labels = phemernr['label'].unique().tolist()\n",
    "\n",
    "def label_ratio(label_dict, labels):\n",
    "    total = sum([v for k, v in label_dict.items()])\n",
    "    \n",
    "    report = \"\"\n",
    "    for l in labels:\n",
    "        report += f\"{round(label_dict[l]/total, 2)}\\t\"\n",
    "    \n",
    "    return report[:-1]\n",
    "\n",
    "print(f\"Original : {label_ratio(label_count, labels)}\")\n",
    "for cv, comp in comparison.items():\n",
    "    print(f\"Part-{cv} : {label_ratio(comp, labels)}\")"
   ]
  },
  {
   "cell_type": "code",
   "execution_count": 10,
   "id": "c1ecce07",
   "metadata": {},
   "outputs": [
    {
     "name": "stdout",
     "output_type": "stream",
     "text": [
      "charliehebdo_1         663\n",
      "charliehebdo_2         627\n",
      "charliehebdo_3         595\n",
      "sydneysiege_3          397\n",
      "sydneysiege_2          388\n",
      "ferguson_2             356\n",
      "ferguson_1             349\n",
      "sydneysiege_1          341\n",
      "ferguson_3             340\n",
      "ottawashooting_1       267\n",
      "ottawashooting_2       267\n",
      "ottawashooting_3       260\n",
      "charliehebdo_0         194\n",
      "germanwings-crash_1    149\n",
      "germanwings-crash_3    144\n",
      "germanwings-crash_2    129\n",
      "ferguson_0              98\n",
      "ottawashooting_0        96\n",
      "sydneysiege_0           95\n",
      "germanwings-crash_0     47\n",
      "dtype: int64\n",
      "Original : 0.2\t0.36\t0.08\t0.15\t0.21\n",
      "Part-1 : 0.2\t0.37\t0.08\t0.15\t0.19\n",
      "Part-2 : 0.2\t0.35\t0.07\t0.15\t0.22\n",
      "Part-3 : 0.2\t0.34\t0.08\t0.15\t0.23\n",
      "Part-0 : 0.18\t0.37\t0.09\t0.18\t0.18\n"
     ]
    }
   ],
   "source": [
    "topic_count = phemernr['topic'].value_counts()\n",
    "combination = phemernr.apply(lambda row: f\"{row['topic']}_{row['cv_fold']}\", axis=1).value_counts()\n",
    "print(combination)\n",
    "comparison = {}\n",
    "for k, comb in combination.items():\n",
    "    cv_fold = k.split(\"_\")[1]\n",
    "    label = k.split(\"_\")[0]\n",
    "\n",
    "    if cv_fold not in comparison:\n",
    "        comparison[cv_fold] = {}\n",
    "    \n",
    "    comparison[cv_fold][label] = comb\n",
    "\n",
    "topics = phemernr['topic'].unique().tolist()\n",
    "\n",
    "def label_ratio(label_dict, labels):\n",
    "    total = sum([v for k, v in label_dict.items()])\n",
    "    \n",
    "    report = \"\"\n",
    "    for l in labels:\n",
    "        report += f\"{round(label_dict[l]/total, 2)}\\t\"\n",
    "    \n",
    "    return report[:-1]\n",
    "\n",
    "print(f\"Original : {label_ratio(topic_count, topics)}\")\n",
    "for cv, comp in comparison.items():\n",
    "    print(f\"Part-{cv} : {label_ratio(comp, topics)}\")"
   ]
  },
  {
   "cell_type": "code",
   "execution_count": 21,
   "id": "dd3ef471",
   "metadata": {},
   "outputs": [
    {
     "data": {
      "text/html": [
       "<div>\n",
       "<style scoped>\n",
       "    .dataframe tbody tr th:only-of-type {\n",
       "        vertical-align: middle;\n",
       "    }\n",
       "\n",
       "    .dataframe tbody tr th {\n",
       "        vertical-align: top;\n",
       "    }\n",
       "\n",
       "    .dataframe thead th {\n",
       "        text-align: right;\n",
       "    }\n",
       "</style>\n",
       "<table border=\"1\" class=\"dataframe\">\n",
       "  <thead>\n",
       "    <tr style=\"text-align: right;\">\n",
       "      <th></th>\n",
       "      <th>tweet_text</th>\n",
       "      <th>topic</th>\n",
       "      <th>label</th>\n",
       "      <th>tvt</th>\n",
       "      <th>cv_fold</th>\n",
       "    </tr>\n",
       "  </thead>\n",
       "  <tbody>\n",
       "    <tr>\n",
       "      <th>0</th>\n",
       "      <td>BOMBSHELL: #Ferguson chief says the police off...</td>\n",
       "      <td>ferguson</td>\n",
       "      <td>rumours</td>\n",
       "      <td>test</td>\n",
       "      <td>3</td>\n",
       "    </tr>\n",
       "    <tr>\n",
       "      <th>1</th>\n",
       "      <td>It appears that #Ferguson PD are trying to ass...</td>\n",
       "      <td>ferguson</td>\n",
       "      <td>rumours</td>\n",
       "      <td>training</td>\n",
       "      <td>1</td>\n",
       "    </tr>\n",
       "    <tr>\n",
       "      <th>2</th>\n",
       "      <td>All weekend ppl will be talking about the \"rob...</td>\n",
       "      <td>ferguson</td>\n",
       "      <td>rumours</td>\n",
       "      <td>test</td>\n",
       "      <td>3</td>\n",
       "    </tr>\n",
       "    <tr>\n",
       "      <th>3</th>\n",
       "      <td>Why would the officer tell #MikeBrown to get o...</td>\n",
       "      <td>ferguson</td>\n",
       "      <td>rumours</td>\n",
       "      <td>test</td>\n",
       "      <td>3</td>\n",
       "    </tr>\n",
       "    <tr>\n",
       "      <th>4</th>\n",
       "      <td>Michael Brown is the 17 yr old boy who was sho...</td>\n",
       "      <td>ferguson</td>\n",
       "      <td>rumours</td>\n",
       "      <td>training</td>\n",
       "      <td>0</td>\n",
       "    </tr>\n",
       "  </tbody>\n",
       "</table>\n",
       "</div>"
      ],
      "text/plain": [
       "                                          tweet_text     topic    label  \\\n",
       "0  BOMBSHELL: #Ferguson chief says the police off...  ferguson  rumours   \n",
       "1  It appears that #Ferguson PD are trying to ass...  ferguson  rumours   \n",
       "2  All weekend ppl will be talking about the \"rob...  ferguson  rumours   \n",
       "3  Why would the officer tell #MikeBrown to get o...  ferguson  rumours   \n",
       "4  Michael Brown is the 17 yr old boy who was sho...  ferguson  rumours   \n",
       "\n",
       "        tvt  cv_fold  \n",
       "0      test        3  \n",
       "1  training        1  \n",
       "2      test        3  \n",
       "3      test        3  \n",
       "4  training        0  "
      ]
     },
     "execution_count": 21,
     "metadata": {},
     "output_type": "execute_result"
    }
   ],
   "source": [
    "phemernr = phemernr[['tweet_text', 'topic', 'label', 'tvt', 'cv_fold']]\n",
    "phemernr.head()"
   ]
  },
  {
   "cell_type": "code",
   "execution_count": 22,
   "id": "3925826b",
   "metadata": {},
   "outputs": [],
   "source": [
    "phemernr.to_csv(\"../../data/processed/phemernr1_dataset_with_tvt.csv\", index=False)"
   ]
  },
  {
   "cell_type": "code",
   "execution_count": null,
   "id": "00af9ced",
   "metadata": {},
   "outputs": [],
   "source": []
  }
 ],
 "metadata": {
  "kernelspec": {
   "display_name": "Python 3",
   "language": "python",
   "name": "python3"
  },
  "language_info": {
   "codemirror_mode": {
    "name": "ipython",
    "version": 3
   },
   "file_extension": ".py",
   "mimetype": "text/x-python",
   "name": "python",
   "nbconvert_exporter": "python",
   "pygments_lexer": "ipython3",
   "version": "3.8.10"
  }
 },
 "nbformat": 4,
 "nbformat_minor": 5
}
